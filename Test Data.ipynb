{
 "cells": [
  {
   "cell_type": "markdown",
   "metadata": {},
   "source": [
    "## Synthetic Data for Small World Penalty"
   ]
  },
  {
   "cell_type": "code",
   "execution_count": 56,
   "metadata": {},
   "outputs": [],
   "source": [
    "import numpy as np\n",
    "import matplotlib.pyplot as plt\n",
    "%matplotlib inline\n",
    "from scipy.optimize import minimize\n",
    "from scipy.special  import zeta\n",
    "\n",
    "from scipy.stats import zipf\n",
    "\n",
    "N = 500"
   ]
  },
  {
   "cell_type": "code",
   "execution_count": 57,
   "metadata": {},
   "outputs": [
    {
     "data": {
      "image/png": "[encoded data removed]",
      "text/plain": [
       "<Figure size 432x288 with 1 Axes>"
      ]
     },
     "metadata": {
      "needs_background": "light"
     },
     "output_type": "display_data"
    }
   ],
   "source": [
    "# 'Power law' Distribution - zipf\n",
    "a = 2.0 # Shape Parameter\n",
    "random_data_z = zipf.rvs(a, size=N)\n",
    "plt.hist(random_data_z, N)\n",
    "plt.show()"
   ]
  },
  {
   "cell_type": "code",
   "execution_count": 58,
   "metadata": {},
   "outputs": [
    {
     "data": {
      "image/png": "[encoded data removed]",
      "text/plain": [
       "<Figure size 432x288 with 1 Axes>"
      ]
     },
     "metadata": {
      "needs_background": "light"
     },
     "output_type": "display_data"
    }
   ],
   "source": [
    "# Uniform Distribution\n",
    "min_x, max_x = 1, random_data_z.max()\n",
    "\n",
    "random_data_u = np.random.randint(min_x, max_x, size=N)\n",
    "plt.hist(random_data_u, N)\n",
    "plt.show()"
   ]
  },
  {
   "cell_type": "code",
   "execution_count": 59,
   "metadata": {},
   "outputs": [
    {
     "data": {
      "image/png": "[encoded data removed]",
      "text/plain": [
       "<Figure size 432x288 with 1 Axes>"
      ]
     },
     "metadata": {
      "needs_background": "light"
     },
     "output_type": "display_data"
    }
   ],
   "source": [
    "# Poisson Distribution\n",
    "lam = int((max_x - min_x)/2)\n",
    "\n",
    "random_data_p = np.random.poisson(lam, N)\n",
    "plt.hist(random_data_p, N)\n",
    "plt.show()"
   ]
  },
  {
   "cell_type": "code",
   "execution_count": 18,
   "metadata": {},
   "outputs": [],
   "source": [
    "# Higher order function that takes the samples and returns a function over them that\n",
    "# approximates the loss given a specific beta. That is, mle_beta(x) tells you the loss\n",
    "# if the beta_empirical = x.\n",
    "def mle_beta_samples(samples):\n",
    "    lng = 0\n",
    "    hist_cnts, hist_bins = np.histogram(samples)\n",
    "    for i in range(len(hist_cnts)):\n",
    "        if(hist_cnts[i] > 0): # Or stuff gets fucky real quick.\n",
    "            lng += np.log(hist_cnts[i])\n",
    "    \n",
    "    Na = hist_cnts[0] # The zero-th element is our ath bin, which is always 1 for our purposes.\n",
    "    lng = (1.0/Na)*lng\n",
    "    \n",
    "    # Note, we multiply by -1.0 to make this a minimization problem.\n",
    "    def mle_beta(x):\n",
    "        return -1.0*(-1.0*zeta(x+1, 1.0)-(x+1)*lng)\n",
    "    \n",
    "    return mle_beta  "
   ]
  },
  {
   "cell_type": "code",
   "execution_count": 60,
   "metadata": {},
   "outputs": [],
   "source": [
    "beta_loss_z = mle_beta_samples(random_data_z)\n",
    "beta_loss_u = mle_beta_samples(random_data_u)\n",
    "beta_loss_p = mle_beta_samples(random_data_p)"
   ]
  },
  {
   "cell_type": "code",
   "execution_count": 61,
   "metadata": {},
   "outputs": [
    {
     "name": "stdout",
     "output_type": "stream",
     "text": [
      "[5.04111328]\n"
     ]
    }
   ],
   "source": [
    "result_z = minimize(beta_loss_z, 1.0, method='Nelder-Mead')\n",
    "beta_emp_z = result_z['x']\n",
    "print(beta_emp_z)"
   ]
  },
  {
   "cell_type": "code",
   "execution_count": 62,
   "metadata": {},
   "outputs": [
    {
     "name": "stdout",
     "output_type": "stream",
     "text": [
      "[1.03720703]\n"
     ]
    }
   ],
   "source": [
    "result_u = minimize(beta_loss_u, 1.0, method='Nelder-Mead')\n",
    "beta_emp_u = result_u['x']\n",
    "print(beta_emp_u)"
   ]
  },
  {
   "cell_type": "code",
   "execution_count": 63,
   "metadata": {},
   "outputs": [
    {
     "name": "stdout",
     "output_type": "stream",
     "text": [
      "[0.35302734]\n"
     ]
    }
   ],
   "source": [
    "result_p = minimize(beta_loss_p, 1.0, method='Nelder-Mead')\n",
    "beta_emp_p = result_p['x']\n",
    "print(beta_emp_n)"
   ]
  },
  {
   "cell_type": "code",
   "execution_count": 64,
   "metadata": {},
   "outputs": [],
   "source": [
    "def d_emp(n, Na, Nn, beta):    \n",
    "    def S(x, b):\n",
    "        return zeta(x+1, n)/zeta(x+1, 1)\n",
    "    return np.abs((Nn/Na)-S(n, beta))\n",
    "\n",
    "def manual_demp_plot(samples, beta_emp):\n",
    "    # To make life easy, setting the number of bins to equal the largest value, lots of empty\n",
    "    # entries, but means I can use the index into the counts as n. That is, n = index+1 while\n",
    "    # looping over the counts.\n",
    "    hist_cnts, hist_bins = np.histogram(samples, bins=(samples.max()+1))\n",
    "    Na  = hist_cnts[0]\n",
    "    y_s = []\n",
    "    for i in range(1, len(hist_cnts)):\n",
    "        n  = i+1\n",
    "        Nn = hist_cnts[i]\n",
    "        y_s.append(d_emp(n, Na, Nn, beta_emp))\n",
    "\n",
    "    plt.plot(range(1, len(hist_cnts)), y_s)\n",
    "    plt.show()\n",
    "    return y_s"
   ]
  },
  {
   "cell_type": "markdown",
   "metadata": {},
   "source": [
    "## Results\n",
    "\n",
    "Hoping that the empirical KSS values are noticeably smaller for the power law data. "
   ]
  },
  {
   "cell_type": "code",
   "execution_count": 65,
   "metadata": {},
   "outputs": [
    {
     "data": {
      "image/png": "[encoded data removed]",
      "text/plain": [
       "<Figure size 432x288 with 1 Axes>"
      ]
     },
     "metadata": {
      "needs_background": "light"
     },
     "output_type": "display_data"
    },
    {
     "name": "stdout",
     "output_type": "stream",
     "text": [
      "0.0665330379526744\n"
     ]
    }
   ],
   "source": [
    "y_z = manual_demp_plot(random_data_z, beta_emp_z)\n",
    "print(max(y_z))"
   ]
  },
  {
   "cell_type": "code",
   "execution_count": 66,
   "metadata": {},
   "outputs": [
    {
     "data": {
      "image/png": "[encoded data removed]",
      "text/plain": [
       "<Figure size 432x288 with 1 Axes>"
      ]
     },
     "metadata": {
      "needs_background": "light"
     },
     "output_type": "display_data"
    },
    {
     "name": "stdout",
     "output_type": "stream",
     "text": [
      "3.0\n"
     ]
    }
   ],
   "source": [
    "y_u = manual_demp_plot(random_data_u, beta_emp_u)\n",
    "print(max(y_u))"
   ]
  },
  {
   "cell_type": "code",
   "execution_count": 67,
   "metadata": {},
   "outputs": [
    {
     "data": {
      "image/png": "[encoded data removed]",
      "text/plain": [
       "<Figure size 432x288 with 1 Axes>"
      ]
     },
     "metadata": {
      "needs_background": "light"
     },
     "output_type": "display_data"
    },
    {
     "name": "stdout",
     "output_type": "stream",
     "text": [
      "9.0\n"
     ]
    }
   ],
   "source": [
    "y_p = manual_demp_plot(random_data_p, beta_emp_p)\n",
    "print(max(y_p))"
   ]
  },
  {
   "cell_type": "markdown",
   "metadata": {},
   "source": [
    "To be totally sure this works, beyond just testing random dists against it, need to assume some pathological cases and see what the output is. \n",
    "\n",
    "However, if for a moment we assume that the KSS value found, without furthering iterations refining it, can be an indicator of 'goodness of fit', then this could be used as part of a penalty term, if there is a stage in the network architecture that can be interpreted as providing a 'network input' to further layers of the architecture.\n",
    "\n",
    "This calculation would provide a penalty/regularization term using the KSS over said layer. "
   ]
  },
  {
   "cell_type": "code",
   "execution_count": null,
   "metadata": {},
   "outputs": [],
   "source": [
    "objective = C_1*loss + C_2*KSS(network_layer_output)"
   ]
  },
  {
   "cell_type": "markdown",
   "metadata": {},
   "source": [
    "This adds only? one new hyperparameter to the architecture, the constant C_2, along with an introduced structural bias in the selection of which layer to interpret as a graph/network adjacency \"fill in function\"."
   ]
  },
  {
   "cell_type": "markdown",
   "metadata": {},
   "source": [
    "## Issues?\n",
    "\n",
    "#### What if the distribution is 'pathological' and consists of something like 'all nodes have degree 1'?"
   ]
  },
  {
   "cell_type": "code",
   "execution_count": 69,
   "metadata": {
    "scrolled": true
   },
   "outputs": [
    {
     "name": "stdout",
     "output_type": "stream",
     "text": [
      " final_simplex: (array([[1.],\n",
      "       [1.]]), array([inf, inf]))\n",
      "           fun: inf\n",
      "       message: 'Maximum number of function evaluations has been exceeded.'\n",
      "          nfev: 200\n",
      "           nit: 67\n",
      "        status: 1\n",
      "       success: False\n",
      "             x: array([1.])\n"
     ]
    },
    {
     "name": "stderr",
     "output_type": "stream",
     "text": [
      "/home/wpower3/anaconda3/envs/swre/lib/python3.5/site-packages/ipykernel_launcher.py:12: RuntimeWarning: divide by zero encountered in true_divide\n",
      "  if sys.path[0] == '':\n",
      "/home/wpower3/anaconda3/envs/swre/lib/python3.5/site-packages/scipy/optimize/optimize.py:563: RuntimeWarning: invalid value encountered in subtract\n",
      "  numpy.max(numpy.abs(fsim[0] - fsim[1:])) <= fatol):\n"
     ]
    }
   ],
   "source": [
    "random_data_path = [1 for i in range(N)]\n",
    "beta_loss_path = mle_beta_samples(random_data_path)\n",
    "result_path = minimize(beta_loss_path, 1.0, method='Nelder-Mead')\n",
    "\n",
    "print(result_path)"
   ]
  },
  {
   "cell_type": "markdown",
   "metadata": {},
   "source": [
    "Hard to say, because of COURSE this is an impossible optimization target, this has no gradient?"
   ]
  },
  {
   "cell_type": "markdown",
   "metadata": {},
   "source": [
    "#### How expensive are these calculations?\n",
    "\n",
    "* Adjacency Matrix Computation\n",
    "* Degree Distribution Calculation - TF Bin methods\n",
    "* Nelder-Mead on a Large N "
   ]
  },
  {
   "cell_type": "markdown",
   "metadata": {},
   "source": [
    "#### Deeper Statistical Model?\n",
    "\n",
    "* For what values of distribution parameters do these assumptions hold?\n",
    "* Are there uniform, poisson parameters that could achieve better KSS values than a powerlaw/zipf?\n",
    "\n",
    "Need to investigate that. Also, taking care to pick values that would be reasonably expected to occur in a pragmatic problem setting. "
   ]
  },
  {
   "cell_type": "markdown",
   "metadata": {},
   "source": [
    "## Next Steps\n",
    "\n",
    "#### Toy Problem\n",
    "Find a problem that obviously leverages some network effects over the examples, ideally one in a supervised setting, so that the introduction of this method into a real workflow can be explored.\n",
    "\n",
    "#### Real Problem\n",
    "Find an application within the news dataset problems that could perhaps be improved/attempted with the addition of this method.\n",
    "\n",
    "* **De-Anonymization** - A 'network layer' might provide information about the connections between supposed users in a spcific domain, which could be regulularized with this method.\n",
    "* **Fake News Dissemenation Modeling** - Could use this in a similar way to learn a network amounst 'actors' in the news economy to predict flow?\n",
    "\n",
    "The use case should/has to be a situation where such an implicit network 'layer' can be added to the architecture. "
   ]
  },
  {
   "cell_type": "code",
   "execution_count": null,
   "metadata": {},
   "outputs": [],
   "source": []
  }
 ],
 "metadata": {
  "kernelspec": {
   "display_name": "Python 3",
   "language": "python",
   "name": "python3"
  },
  "language_info": {
   "codemirror_mode": {
    "name": "ipython",
    "version": 3
   },
   "file_extension": ".py",
   "mimetype": "text/x-python",
   "name": "python",
   "nbconvert_exporter": "python",
   "pygments_lexer": "ipython3",
   "version": "3.5.6"
  }
 },
 "nbformat": 4,
 "nbformat_minor": 2
}
