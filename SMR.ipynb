{
 "cells": [
  {
   "cell_type": "markdown",
   "metadata": {},
   "source": [
    "## Penalty Term for Degree Dist\n",
    "\n",
    "Trying to implement part of the 'recipie' for evaluating power law distribution fits. Reference [1] from my weekly notes (2019-08-13)."
   ]
  },
  {
   "cell_type": "code",
   "execution_count": 2,
   "metadata": {},
   "outputs": [],
   "source": [
    "import numpy as np\n",
    "import matplotlib.pyplot as plt\n",
    "%matplotlib inline\n",
    "from scipy.optimize import minimize\n",
    "from scipy.special  import zeta\n",
    "\n",
    "from scipy.stats import zipf"
   ]
  },
  {
   "cell_type": "markdown",
   "metadata": {},
   "source": [
    "Need to generate some input data. Need examples for both 'good' and 'bad' degree distributions. The goal is to have 'histograms' for each. These will be the input for the KSS calculations. "
   ]
  },
  {
   "cell_type": "code",
   "execution_count": 3,
   "metadata": {},
   "outputs": [
    {
     "data": {
      "image/png": "[encoded data removed]",
      "text/plain": [
       "<Figure size 432x288 with 1 Axes>"
      ]
     },
     "metadata": {
      "needs_background": "light"
     },
     "output_type": "display_data"
    }
   ],
   "source": [
    "N = 50\n",
    "\n",
    "# 'Power law' Distribution - zipf\n",
    "a = 2.0\n",
    "random_data_z = zipf.rvs(a, size=N)\n",
    "plt.hist(random_data_z, 100)\n",
    "plt.show()\n"
   ]
  },
  {
   "cell_type": "markdown",
   "metadata": {},
   "source": [
    "Looks like this is working! Fun fact, the parameter needs to be in the same ranges we'd expect the power law parameter to be for 'interesting' distributions to show up. so something larger (NOT equal to) 1, and also less than or equal to 2.0? Maybe more? I'm forgetting my social network theory stuff. \n",
    "\n",
    "For the random dist, I'll just pick some arbitrary values. Maybe make the max the largest value from the zipf dist?"
   ]
  },
  {
   "cell_type": "code",
   "execution_count": 4,
   "metadata": {},
   "outputs": [
    {
     "data": {
      "image/png": "[encoded data removed]",
      "text/plain": [
       "<Figure size 432x288 with 1 Axes>"
      ]
     },
     "metadata": {
      "needs_background": "light"
     },
     "output_type": "display_data"
    }
   ],
   "source": [
    "# Random Distribution\n",
    "min_x = 1\n",
    "max_x = random_data_z.max()\n",
    "\n",
    "random_data_r = np.random.randint(min_x, max_x, size=N)\n",
    "\n",
    "plt.hist(random_data_r, 100)\n",
    "plt.show()"
   ]
  },
  {
   "cell_type": "markdown",
   "metadata": {},
   "source": [
    "Cool! Now to build the functions that are to be optimized. "
   ]
  },
  {
   "cell_type": "code",
   "execution_count": 5,
   "metadata": {},
   "outputs": [],
   "source": [
    "def mle_beta_samples(samples):\n",
    "    lng = 0\n",
    "    hist_cnts, hist_bins = np.histogram(samples)\n",
    "    for i in range(len(hist_cnts)):\n",
    "        if(hist_cnts[i] > 0): # Or stuff gets fucky real quick.\n",
    "            lng += np.log(hist_cnts[i])\n",
    "    \n",
    "    Na = hist_cnts[0] # The zero-th element is our ath bin, which is always 1 for our purposes.\n",
    "    lng = (1.0/Na)*lng\n",
    "\n",
    "    def mle_beta(x):\n",
    "        return -1.0*zeta(x+1, 1.0)-(x+1)*lng\n",
    "    \n",
    "    return mle_beta   "
   ]
  },
  {
   "cell_type": "code",
   "execution_count": 6,
   "metadata": {},
   "outputs": [],
   "source": [
    "beta_loss = mle_beta_samples(random_data_z)"
   ]
  },
  {
   "cell_type": "code",
   "execution_count": 7,
   "metadata": {},
   "outputs": [
    {
     "name": "stdout",
     "output_type": "stream",
     "text": [
      " final_simplex: (array([[5.32907052e-16],\n",
      "       [1.24344979e-15]]), array([-2.25179981e+15, -7.50599938e+14]))\n",
      "           fun: -2251799813685248.5\n",
      "       message: 'Maximum number of function evaluations has been exceeded.'\n",
      "          nfev: 200\n",
      "           nit: 100\n",
      "        status: 1\n",
      "       success: False\n",
      "             x: array([5.32907052e-16])\n"
     ]
    }
   ],
   "source": [
    "result = minimize(beta_loss, 1.0, method='Nelder-Mead')\n",
    "print(result)"
   ]
  },
  {
   "cell_type": "markdown",
   "metadata": {},
   "source": [
    "Well thats not great. Lets look at the graph we think we are optimizing."
   ]
  },
  {
   "cell_type": "code",
   "execution_count": 8,
   "metadata": {},
   "outputs": [],
   "source": [
    "x_s = np.arange(1.0, 5.0, 0.01)\n",
    "y_s = beta_loss(x_s)"
   ]
  },
  {
   "cell_type": "code",
   "execution_count": 9,
   "metadata": {},
   "outputs": [
    {
     "data": {
      "image/png": "[encoded data removed]",
      "text/plain": [
       "<Figure size 432x288 with 1 Axes>"
      ]
     },
     "metadata": {
      "needs_background": "light"
     },
     "output_type": "display_data"
    }
   ],
   "source": [
    "plt.plot(x_s, y_s)\n",
    "plt.show()"
   ]
  },
  {
   "cell_type": "markdown",
   "metadata": {},
   "source": [
    "Well look at that, it actually DOES have a maximum. Turns out I cant read, and tried to optimize with a minimize on a function with no minimum. What happens if we negate our function so it actually has a minimum?"
   ]
  },
  {
   "cell_type": "code",
   "execution_count": 10,
   "metadata": {},
   "outputs": [
    {
     "name": "stdout",
     "output_type": "stream",
     "text": [
      " final_simplex: (array([[2.80351563],\n",
      "       [2.80359375]]), array([1.41378914, 1.41378914]))\n",
      "           fun: 1.4137891395157176\n",
      "       message: 'Optimization terminated successfully.'\n",
      "          nfev: 46\n",
      "           nit: 23\n",
      "        status: 0\n",
      "       success: True\n",
      "             x: array([2.80351563])\n"
     ]
    }
   ],
   "source": [
    "def new_beta(x):\n",
    "    return -1.0*beta_loss(x)\n",
    "\n",
    "result = minimize(new_beta, 0.1, method='Nelder-Mead')\n",
    "print(result)"
   ]
  },
  {
   "cell_type": "markdown",
   "metadata": {},
   "source": [
    "HAHAHAHAHA YESSSSSSSSSSSSSSSSSSSSSSSSSSSSSSSSSSSSS!!!! Looks like it finds one NEAR 2. Which is AWESOME.\n",
    "Now just need to do this for the next step, the KSS calculation/optimzation. \n",
    "\n",
    "First, instead of forming this in such a way that I can shove it into a minimization, lets just look at all the possible values for all of our bins. That is, we want to just plot the values of d_emp for all the bins we have, up to the last bin."
   ]
  },
  {
   "cell_type": "code",
   "execution_count": 1,
   "metadata": {},
   "outputs": [],
   "source": [
    "def d_emp(n, Na, Nn, beta):    \n",
    "    def S(x, b):\n",
    "        return zeta(x+1, n)/zeta(x+1, 1)\n",
    "    return np.abs((Nn/Na)-S(n, beta))"
   ]
  },
  {
   "cell_type": "code",
   "execution_count": 33,
   "metadata": {},
   "outputs": [],
   "source": [
    "def manual_demp_plot(samples, beta_emp):\n",
    "    # To make life easy, setting the number of bins to equal the largest value, lots of empty\n",
    "    # entries, but means I can use the index into the counts as n. That is, n = index+1 while\n",
    "    # looping over the counts.\n",
    "    hist_cnts, hist_bins = np.histogram(samples, bins=(samples.max()+1))\n",
    "    Na  = hist_cnts[0]\n",
    "    y_s = []\n",
    "    for i in range(1, len(hist_cnts)):\n",
    "        n  = i+1\n",
    "        Nn = hist_cnts[i]\n",
    "        y_s.append(d_emp(n, Na, Nn, beta_emp))\n",
    "\n",
    "    plt.plot(range(1, len(hist_cnts)), y_s)\n",
    "    plt.show()\n",
    "    return y_s"
   ]
  },
  {
   "cell_type": "code",
   "execution_count": 38,
   "metadata": {},
   "outputs": [
    {
     "name": "stdout",
     "output_type": "stream",
     "text": [
      "Power Law Random Data\n"
     ]
    },
    {
     "data": {
      "image/png": "[encoded data removed]",
      "text/plain": [
       "<Figure size 432x288 with 1 Axes>"
      ]
     },
     "metadata": {
      "needs_background": "light"
     },
     "output_type": "display_data"
    },
    {
     "name": "stdout",
     "output_type": "stream",
     "text": [
      "max demp:  0.14225220016691434\n"
     ]
    }
   ],
   "source": [
    "print(\"Power Law Random Data\")\n",
    "y_pl = manual_demp_plot(random_data_z, result['x'])\n",
    "print(\"max demp: \", max(y_pl))"
   ]
  },
  {
   "cell_type": "markdown",
   "metadata": {},
   "source": [
    "So thats for the 'pure' power law dist. Looks like the max is at the start, and its small, like 0.14.\n",
    "\n",
    "Now to run this same thing for the 'bad' dist and hope we get huge values."
   ]
  },
  {
   "cell_type": "code",
   "execution_count": 39,
   "metadata": {},
   "outputs": [
    {
     "name": "stdout",
     "output_type": "stream",
     "text": [
      "Uniform Random Data\n"
     ]
    },
    {
     "data": {
      "image/png": "[encoded data removed]",
      "text/plain": [
       "<Figure size 432x288 with 1 Axes>"
      ]
     },
     "metadata": {
      "needs_background": "light"
     },
     "output_type": "display_data"
    },
    {
     "name": "stdout",
     "output_type": "stream",
     "text": [
      "max demp:  2.0\n"
     ]
    }
   ],
   "source": [
    "print(\"Uniform Random Data\")\n",
    "y_u = manual_demp_plot(random_data_r, result['x'])\n",
    "print(\"max demp: \", max(y_u))"
   ]
  },
  {
   "cell_type": "markdown",
   "metadata": {},
   "source": [
    "Ok! Looks like this one has larger spikes. Much larger, values higher than one. Should try this out on a lot more different distributions with lots of different parameters. But this seems like a good candidate for the start of a (expensive) penalty term.\n",
    "\n",
    "Next step is to see if I can do the above with something like the minimize function. I don't think I can? But the previous calculation looks like it could maybe be turned into a tensor operation. That is, we could do a 'single' operation to yield the d_emps for all bins, then take the max of that for the penalty term. \n",
    "\n",
    "If the cost for yielding the adjacency matrix are somehow kept low, and the cost for the empirical beta calculation can be kept low, then this step should be the easiest. The next step would be to see if adding this into an actual training flow can be accomplished. Need to figure out how to track the complexity in a 'real' metric, like wall clock, sample complexity, epoch count. Idk, one of those probably makes the most sense. "
   ]
  },
  {
   "cell_type": "code",
   "execution_count": null,
   "metadata": {},
   "outputs": [],
   "source": []
  }
 ],
 "metadata": {
  "kernelspec": {
   "display_name": "Python 3",
   "language": "python",
   "name": "python3"
  },
  "language_info": {
   "codemirror_mode": {
    "name": "ipython",
    "version": 3
   },
   "file_extension": ".py",
   "mimetype": "text/x-python",
   "name": "python",
   "nbconvert_exporter": "python",
   "pygments_lexer": "ipython3",
   "version": "3.5.6"
  }
 },
 "nbformat": 4,
 "nbformat_minor": 2
}
